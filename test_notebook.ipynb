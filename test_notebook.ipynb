{
 "cells": [
  {
   "cell_type": "code",
   "execution_count": null,
   "metadata": {},
   "outputs": [],
   "source": [
    "import requests\n",
    "from bs4 import BeautifulSoup\n",
    "\n",
    "# Send a GET request to the web page\n",
    "start_date = \"2024-05-21\"\n",
    "end_date = \"2024-05-21\"\n",
    "url = \"https://apps.daysmartrecreation.com/dash/x/#/online/ellenton/calendar?location=1&start={start_date}&end={end_date}\".format(start_date=start_date, end_date=end_date)\n",
    "\n",
    "print(url)\n",
    "\n"
   ]
  },
  {
   "cell_type": "code",
   "execution_count": null,
   "metadata": {},
   "outputs": [],
   "source": [
    "response = requests.get(url)\n",
    "# Parse the HTML content\n",
    "soup = BeautifulSoup(response.content, \"html.parser\")\n",
    "\n",
    "# Find specific elements on the page\n",
    "elements = soup.find_all(\"div\", class_=\"my-class\")\n",
    "\n",
    "# Extract data from the elements\n",
    "for element in elements:\n",
    "    text = element.text\n",
    "    print(text)\n",
    "    # Do something with the extracted text\n",
    "\n",
    "# Parse the HTML content\n",
    "soup = BeautifulSoup(response.content, \"html.parser\")\n",
    "\n",
    "# Find specific elements on the page\n",
    "elements = soup.find_all(\"div\", class_=\"my-class\")\n",
    "\n",
    "# Extract data from the elements\n",
    "for element in elements:\n",
    "    text = element.text\n",
    "    print(text)\n",
    "    # Do something with the extracted text"
   ]
  }
 ],
 "metadata": {
  "language_info": {
   "name": "python"
  }
 },
 "nbformat": 4,
 "nbformat_minor": 2
}
